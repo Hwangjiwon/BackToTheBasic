{
 "cells": [
  {
   "cell_type": "markdown",
   "metadata": {},
   "source": [
    "### Pandas Series"
   ]
  },
  {
   "cell_type": "code",
   "execution_count": 5,
   "metadata": {},
   "outputs": [
    {
     "name": "stdout",
     "output_type": "stream",
     "text": [
      "0    92600\n",
      "1    92400\n",
      "2    92100\n",
      "3    94300\n",
      "4    92300\n",
      "dtype: int64\n"
     ]
    }
   ],
   "source": [
    "from pandas import Series\n",
    "\n",
    "skt = Series([92600, 92400, 92100, 94300, 92300])\n",
    "print(skt)"
   ]
  },
  {
   "cell_type": "code",
   "execution_count": 6,
   "metadata": {},
   "outputs": [
    {
     "name": "stdout",
     "output_type": "stream",
     "text": [
      "92600 92100\n"
     ]
    }
   ],
   "source": [
    "print(skt[0], skt[2])"
   ]
  },
  {
   "cell_type": "code",
   "execution_count": 7,
   "metadata": {},
   "outputs": [
    {
     "name": "stdout",
     "output_type": "stream",
     "text": [
      "2016-02-19    92600\n",
      "2016-02-18    92400\n",
      "2016-02-17    92100\n",
      "2016-02-16    94300\n",
      "2016-02-15    92300\n",
      "dtype: int64\n"
     ]
    }
   ],
   "source": [
    "skt2 = Series([92600, 92400, 92100, 94300, 92300], \n",
    "                index=['2016-02-19', '2016-02-18', \n",
    "                       '2016-02-17', '2016-02-16',\n",
    "                       '2016-02-15'])\n",
    "print(skt2)"
   ]
  },
  {
   "cell_type": "code",
   "execution_count": 8,
   "metadata": {},
   "outputs": [
    {
     "name": "stdout",
     "output_type": "stream",
     "text": [
      "92600\n",
      "92100\n"
     ]
    }
   ],
   "source": [
    "print(skt2['2016-02-19'])\n",
    "print(skt2['2016-02-17'])"
   ]
  },
  {
   "cell_type": "code",
   "execution_count": 9,
   "metadata": {},
   "outputs": [
    {
     "name": "stdout",
     "output_type": "stream",
     "text": [
      "Index(['2016-02-19', '2016-02-18', '2016-02-17', '2016-02-16', '2016-02-15'], dtype='object')\n",
      "[92600 92400 92100 94300 92300]\n"
     ]
    }
   ],
   "source": [
    "print(skt2.index)\n",
    "print(skt2.values)"
   ]
  },
  {
   "cell_type": "code",
   "execution_count": 10,
   "metadata": {},
   "outputs": [
    {
     "name": "stdout",
     "output_type": "stream",
     "text": [
      "LGE    600\n",
      "SAM    200\n",
      "SKT    400\n",
      "dtype: int64\n"
     ]
    }
   ],
   "source": [
    "from pandas import Series\n",
    "\n",
    "stock_1 = Series([100, 200, 300], index=['SAM', 'SKT', 'LGE'])\n",
    "stock_2 = Series([300, 100, 200], index=['LGE', 'SAM', 'SKT'])\n",
    "\n",
    "print(stock_1 + stock_2)"
   ]
  },
  {
   "cell_type": "markdown",
   "metadata": {},
   "source": [
    "### Pandas DataFrame"
   ]
  },
  {
   "cell_type": "code",
   "execution_count": 11,
   "metadata": {},
   "outputs": [
    {
     "name": "stdout",
     "output_type": "stream",
     "text": [
      "    open  close   high    low\n",
      "0  11650  11900  12100  11600\n",
      "1  11100  11600  11800  11050\n",
      "2  11200  11000  11200  10900\n",
      "3  11100  11100  11100  10950\n",
      "4  11000  11050  11150  10900\n"
     ]
    }
   ],
   "source": [
    "from pandas import DataFrame\n",
    "\n",
    "skt = {'open':  [11650, 11100, 11200, 11100, 11000],\n",
    "        'close': [11900, 11600, 11000, 11100, 11050], \n",
    "        'high':  [12100, 11800, 11200, 11100, 11150],\n",
    "        'low' :  [11600, 11050, 10900, 10950, 10900]}\n",
    "\n",
    "skt_df = DataFrame(skt)\n",
    "print(skt_df)"
   ]
  },
  {
   "cell_type": "code",
   "execution_count": 12,
   "metadata": {},
   "outputs": [
    {
     "name": "stdout",
     "output_type": "stream",
     "text": [
      "           open   high    low  close\n",
      "19.01.25  11650  12100  11600  11900\n",
      "19.01.24  11100  11800  11050  11600\n",
      "19.01.23  11200  11200  10900  11000\n",
      "19.01.22  11100  11100  10950  11100\n",
      "19.01.21  11000  11150  10900  11050\n"
     ]
    }
   ],
   "source": [
    "skt = {'open':  [11650, 11100, 11200, 11100, 11000],\n",
    "        'close': [11900, 11600, 11000, 11100, 11050], \n",
    "        'high':  [12100, 11800, 11200, 11100, 11150],\n",
    "        'low' :  [11600, 11050, 10900, 10950, 10900]}\n",
    "date = ['19.01.25', '19.01.24', '19.01.23', '19.01.22', '19.01.21']\n",
    "skt_df = DataFrame(skt, columns=['open', 'high', 'low', 'close'], index=date)\n",
    "\n",
    "print(skt_df)"
   ]
  },
  {
   "cell_type": "code",
   "execution_count": 13,
   "metadata": {},
   "outputs": [
    {
     "name": "stdout",
     "output_type": "stream",
     "text": [
      "19.01.25    11650\n",
      "19.01.24    11100\n",
      "19.01.23    11200\n",
      "19.01.22    11100\n",
      "19.01.21    11000\n",
      "Name: open, dtype: int64\n",
      "<class 'pandas.core.series.Series'>\n"
     ]
    }
   ],
   "source": [
    "open_price = skt_df['open']\n",
    "print(open_price)\n",
    "print(type(open_price))"
   ]
  },
  {
   "cell_type": "code",
   "execution_count": 14,
   "metadata": {},
   "outputs": [
    {
     "name": "stdout",
     "output_type": "stream",
     "text": [
      "           open\n",
      "19.01.25  11650\n",
      "19.01.24  11100\n",
      "19.01.23  11200\n",
      "19.01.22  11100\n",
      "19.01.21  11000\n",
      "<class 'pandas.core.frame.DataFrame'>\n"
     ]
    }
   ],
   "source": [
    "open_price_df = skt_df[['open']]\n",
    "print(open_price_df)\n",
    "print(type(open_price_df))"
   ]
  },
  {
   "cell_type": "code",
   "execution_count": 15,
   "metadata": {},
   "outputs": [
    {
     "ename": "KeyError",
     "evalue": "'19.01.25'",
     "output_type": "error",
     "traceback": [
      "\u001b[1;31m---------------------------------------------------------------------------\u001b[0m",
      "\u001b[1;31mKeyError\u001b[0m                                  Traceback (most recent call last)",
      "\u001b[1;32m~\\Anaconda3\\envs\\DataAnalysis\\lib\\site-packages\\pandas\\core\\indexes\\base.py\u001b[0m in \u001b[0;36mget_loc\u001b[1;34m(self, key, method, tolerance)\u001b[0m\n\u001b[0;32m   2645\u001b[0m             \u001b[1;32mtry\u001b[0m\u001b[1;33m:\u001b[0m\u001b[1;33m\u001b[0m\u001b[1;33m\u001b[0m\u001b[0m\n\u001b[1;32m-> 2646\u001b[1;33m                 \u001b[1;32mreturn\u001b[0m \u001b[0mself\u001b[0m\u001b[1;33m.\u001b[0m\u001b[0m_engine\u001b[0m\u001b[1;33m.\u001b[0m\u001b[0mget_loc\u001b[0m\u001b[1;33m(\u001b[0m\u001b[0mkey\u001b[0m\u001b[1;33m)\u001b[0m\u001b[1;33m\u001b[0m\u001b[1;33m\u001b[0m\u001b[0m\n\u001b[0m\u001b[0;32m   2647\u001b[0m             \u001b[1;32mexcept\u001b[0m \u001b[0mKeyError\u001b[0m\u001b[1;33m:\u001b[0m\u001b[1;33m\u001b[0m\u001b[1;33m\u001b[0m\u001b[0m\n",
      "\u001b[1;32mpandas\\_libs\\index.pyx\u001b[0m in \u001b[0;36mpandas._libs.index.IndexEngine.get_loc\u001b[1;34m()\u001b[0m\n",
      "\u001b[1;32mpandas\\_libs\\index.pyx\u001b[0m in \u001b[0;36mpandas._libs.index.IndexEngine.get_loc\u001b[1;34m()\u001b[0m\n",
      "\u001b[1;32mpandas\\_libs\\hashtable_class_helper.pxi\u001b[0m in \u001b[0;36mpandas._libs.hashtable.PyObjectHashTable.get_item\u001b[1;34m()\u001b[0m\n",
      "\u001b[1;32mpandas\\_libs\\hashtable_class_helper.pxi\u001b[0m in \u001b[0;36mpandas._libs.hashtable.PyObjectHashTable.get_item\u001b[1;34m()\u001b[0m\n",
      "\u001b[1;31mKeyError\u001b[0m: '19.01.25'",
      "\nDuring handling of the above exception, another exception occurred:\n",
      "\u001b[1;31mKeyError\u001b[0m                                  Traceback (most recent call last)",
      "\u001b[1;32m<ipython-input-15-f3ad6baf31aa>\u001b[0m in \u001b[0;36m<module>\u001b[1;34m\u001b[0m\n\u001b[0;32m      1\u001b[0m \u001b[1;31m# row를 index로 접근할 수 없다.\u001b[0m\u001b[1;33m\u001b[0m\u001b[1;33m\u001b[0m\u001b[1;33m\u001b[0m\u001b[0m\n\u001b[1;32m----> 2\u001b[1;33m \u001b[0mprint\u001b[0m\u001b[1;33m(\u001b[0m\u001b[0mskt_df\u001b[0m\u001b[1;33m[\u001b[0m\u001b[1;34m'19.01.25'\u001b[0m\u001b[1;33m]\u001b[0m\u001b[1;33m)\u001b[0m\u001b[1;33m\u001b[0m\u001b[1;33m\u001b[0m\u001b[0m\n\u001b[0m",
      "\u001b[1;32m~\\Anaconda3\\envs\\DataAnalysis\\lib\\site-packages\\pandas\\core\\frame.py\u001b[0m in \u001b[0;36m__getitem__\u001b[1;34m(self, key)\u001b[0m\n\u001b[0;32m   2798\u001b[0m             \u001b[1;32mif\u001b[0m \u001b[0mself\u001b[0m\u001b[1;33m.\u001b[0m\u001b[0mcolumns\u001b[0m\u001b[1;33m.\u001b[0m\u001b[0mnlevels\u001b[0m \u001b[1;33m>\u001b[0m \u001b[1;36m1\u001b[0m\u001b[1;33m:\u001b[0m\u001b[1;33m\u001b[0m\u001b[1;33m\u001b[0m\u001b[0m\n\u001b[0;32m   2799\u001b[0m                 \u001b[1;32mreturn\u001b[0m \u001b[0mself\u001b[0m\u001b[1;33m.\u001b[0m\u001b[0m_getitem_multilevel\u001b[0m\u001b[1;33m(\u001b[0m\u001b[0mkey\u001b[0m\u001b[1;33m)\u001b[0m\u001b[1;33m\u001b[0m\u001b[1;33m\u001b[0m\u001b[0m\n\u001b[1;32m-> 2800\u001b[1;33m             \u001b[0mindexer\u001b[0m \u001b[1;33m=\u001b[0m \u001b[0mself\u001b[0m\u001b[1;33m.\u001b[0m\u001b[0mcolumns\u001b[0m\u001b[1;33m.\u001b[0m\u001b[0mget_loc\u001b[0m\u001b[1;33m(\u001b[0m\u001b[0mkey\u001b[0m\u001b[1;33m)\u001b[0m\u001b[1;33m\u001b[0m\u001b[1;33m\u001b[0m\u001b[0m\n\u001b[0m\u001b[0;32m   2801\u001b[0m             \u001b[1;32mif\u001b[0m \u001b[0mis_integer\u001b[0m\u001b[1;33m(\u001b[0m\u001b[0mindexer\u001b[0m\u001b[1;33m)\u001b[0m\u001b[1;33m:\u001b[0m\u001b[1;33m\u001b[0m\u001b[1;33m\u001b[0m\u001b[0m\n\u001b[0;32m   2802\u001b[0m                 \u001b[0mindexer\u001b[0m \u001b[1;33m=\u001b[0m \u001b[1;33m[\u001b[0m\u001b[0mindexer\u001b[0m\u001b[1;33m]\u001b[0m\u001b[1;33m\u001b[0m\u001b[1;33m\u001b[0m\u001b[0m\n",
      "\u001b[1;32m~\\Anaconda3\\envs\\DataAnalysis\\lib\\site-packages\\pandas\\core\\indexes\\base.py\u001b[0m in \u001b[0;36mget_loc\u001b[1;34m(self, key, method, tolerance)\u001b[0m\n\u001b[0;32m   2646\u001b[0m                 \u001b[1;32mreturn\u001b[0m \u001b[0mself\u001b[0m\u001b[1;33m.\u001b[0m\u001b[0m_engine\u001b[0m\u001b[1;33m.\u001b[0m\u001b[0mget_loc\u001b[0m\u001b[1;33m(\u001b[0m\u001b[0mkey\u001b[0m\u001b[1;33m)\u001b[0m\u001b[1;33m\u001b[0m\u001b[1;33m\u001b[0m\u001b[0m\n\u001b[0;32m   2647\u001b[0m             \u001b[1;32mexcept\u001b[0m \u001b[0mKeyError\u001b[0m\u001b[1;33m:\u001b[0m\u001b[1;33m\u001b[0m\u001b[1;33m\u001b[0m\u001b[0m\n\u001b[1;32m-> 2648\u001b[1;33m                 \u001b[1;32mreturn\u001b[0m \u001b[0mself\u001b[0m\u001b[1;33m.\u001b[0m\u001b[0m_engine\u001b[0m\u001b[1;33m.\u001b[0m\u001b[0mget_loc\u001b[0m\u001b[1;33m(\u001b[0m\u001b[0mself\u001b[0m\u001b[1;33m.\u001b[0m\u001b[0m_maybe_cast_indexer\u001b[0m\u001b[1;33m(\u001b[0m\u001b[0mkey\u001b[0m\u001b[1;33m)\u001b[0m\u001b[1;33m)\u001b[0m\u001b[1;33m\u001b[0m\u001b[1;33m\u001b[0m\u001b[0m\n\u001b[0m\u001b[0;32m   2649\u001b[0m         \u001b[0mindexer\u001b[0m \u001b[1;33m=\u001b[0m \u001b[0mself\u001b[0m\u001b[1;33m.\u001b[0m\u001b[0mget_indexer\u001b[0m\u001b[1;33m(\u001b[0m\u001b[1;33m[\u001b[0m\u001b[0mkey\u001b[0m\u001b[1;33m]\u001b[0m\u001b[1;33m,\u001b[0m \u001b[0mmethod\u001b[0m\u001b[1;33m=\u001b[0m\u001b[0mmethod\u001b[0m\u001b[1;33m,\u001b[0m \u001b[0mtolerance\u001b[0m\u001b[1;33m=\u001b[0m\u001b[0mtolerance\u001b[0m\u001b[1;33m)\u001b[0m\u001b[1;33m\u001b[0m\u001b[1;33m\u001b[0m\u001b[0m\n\u001b[0;32m   2650\u001b[0m         \u001b[1;32mif\u001b[0m \u001b[0mindexer\u001b[0m\u001b[1;33m.\u001b[0m\u001b[0mndim\u001b[0m \u001b[1;33m>\u001b[0m \u001b[1;36m1\u001b[0m \u001b[1;32mor\u001b[0m \u001b[0mindexer\u001b[0m\u001b[1;33m.\u001b[0m\u001b[0msize\u001b[0m \u001b[1;33m>\u001b[0m \u001b[1;36m1\u001b[0m\u001b[1;33m:\u001b[0m\u001b[1;33m\u001b[0m\u001b[1;33m\u001b[0m\u001b[0m\n",
      "\u001b[1;32mpandas\\_libs\\index.pyx\u001b[0m in \u001b[0;36mpandas._libs.index.IndexEngine.get_loc\u001b[1;34m()\u001b[0m\n",
      "\u001b[1;32mpandas\\_libs\\index.pyx\u001b[0m in \u001b[0;36mpandas._libs.index.IndexEngine.get_loc\u001b[1;34m()\u001b[0m\n",
      "\u001b[1;32mpandas\\_libs\\hashtable_class_helper.pxi\u001b[0m in \u001b[0;36mpandas._libs.hashtable.PyObjectHashTable.get_item\u001b[1;34m()\u001b[0m\n",
      "\u001b[1;32mpandas\\_libs\\hashtable_class_helper.pxi\u001b[0m in \u001b[0;36mpandas._libs.hashtable.PyObjectHashTable.get_item\u001b[1;34m()\u001b[0m\n",
      "\u001b[1;31mKeyError\u001b[0m: '19.01.25'"
     ]
    }
   ],
   "source": [
    "# row를 index로 접근할 수 없다.\n",
    "print(skt_df['19.01.25'])"
   ]
  },
  {
   "cell_type": "code",
   "execution_count": 16,
   "metadata": {},
   "outputs": [
    {
     "name": "stdout",
     "output_type": "stream",
     "text": [
      "open     11650\n",
      "high     12100\n",
      "low      11600\n",
      "close    11900\n",
      "Name: 19.01.25, dtype: int64\n",
      "<class 'pandas.core.series.Series'>\n"
     ]
    }
   ],
   "source": [
    "row_data = skt_df.loc['19.01.25']\n",
    "print(row_data)\n",
    "print(type(row_data))"
   ]
  },
  {
   "cell_type": "code",
   "execution_count": 17,
   "metadata": {},
   "outputs": [
    {
     "name": "stdout",
     "output_type": "stream",
     "text": [
      "Index(['open', 'high', 'low', 'close'], dtype='object')\n",
      "[[11650 12100 11600 11900]\n",
      " [11100 11800 11050 11600]\n",
      " [11200 11200 10900 11000]\n",
      " [11100 11100 10950 11100]\n",
      " [11000 11150 10900 11050]]\n",
      "Index(['19.01.25', '19.01.24', '19.01.23', '19.01.22', '19.01.21'], dtype='object')\n"
     ]
    }
   ],
   "source": [
    "print(skt_df.columns)\n",
    "print(skt_df.values)\n",
    "print(skt_df.index)"
   ]
  },
  {
   "cell_type": "code",
   "execution_count": 18,
   "metadata": {},
   "outputs": [
    {
     "name": "stdout",
     "output_type": "stream",
     "text": [
      "DatetimeIndex(['2019-01-25', '2019-01-24', '2019-01-23', '2019-01-22',\n",
      "               '2019-01-21'],\n",
      "              dtype='datetime64[ns]', freq=None)\n",
      "             open   high    low  close\n",
      "2019-01-25  11650  12100  11600  11900\n",
      "2019-01-24  11100  11800  11050  11600\n",
      "2019-01-23  11200  11200  10900  11000\n",
      "2019-01-22  11100  11100  10950  11100\n",
      "2019-01-21  11000  11150  10900  11050\n"
     ]
    }
   ],
   "source": [
    "import pandas as pd\n",
    "idx = pd.to_datetime(date, format='%y.%m.%d')\n",
    "skt_df = DataFrame(skt, columns=['open', 'high', 'low', 'close'], index=idx)\n",
    "\n",
    "print(skt_df.index)\n",
    "print(skt_df)"
   ]
  },
  {
   "cell_type": "code",
   "execution_count": 19,
   "metadata": {},
   "outputs": [
    {
     "name": "stdout",
     "output_type": "stream",
     "text": [
      "             open   high    low  close\n",
      "2019-01-25  11650  12100  11600  11900\n",
      "2019-01-24  11100  11800  11050  11600\n",
      "2019-01-23  11200  11200  10900  11000\n",
      "2019-01-22  11100  11100  10950  11100\n",
      "2019-01-21  11000  11150  10900  11050\n"
     ]
    }
   ],
   "source": [
    "print(skt_df['2019-01'])"
   ]
  },
  {
   "cell_type": "markdown",
   "metadata": {},
   "source": [
    "## Pandas를 이용한 주가 분석"
   ]
  },
  {
   "cell_type": "markdown",
   "metadata": {},
   "source": [
    "### 1. Pandas `read_html` 을 사용해 data 얻기\n",
    "1. pandas의 `read_html` 함수를 사용해 krx(한국거래소)에서 주식 종목코드 가져오기\n",
    "2. `read_html`로 네이버 금융에서 원하는 회사의 주가정보를 가져오는 함수 작성\n",
    "3. 수집한 정보를 `matplotlib`를 통해 그래프로 출력"
   ]
  },
  {
   "cell_type": "code",
   "execution_count": 20,
   "metadata": {},
   "outputs": [],
   "source": [
    "import pandas as pd"
   ]
  },
  {
   "cell_type": "markdown",
   "metadata": {},
   "source": [
    "krx에서 주식 종목코드 가져오기\n",
    "\n",
    "`read_html` 함수는 `<table>` 태그를 찾아 자동으로 파싱해 준다."
   ]
  },
  {
   "cell_type": "code",
   "execution_count": 21,
   "metadata": {},
   "outputs": [
    {
     "name": "stdout",
     "output_type": "stream",
     "text": [
      "<class 'list'>\n",
      "<class 'pandas.core.frame.DataFrame'>\n"
     ]
    }
   ],
   "source": [
    "code_num_df = pd.read_html('http://kind.krx.co.kr/corpgeneral/corpList.do?method=download&searchType=13', header=0)\n",
    "\n",
    "print(type(code_num_df))\n",
    "print(type(code_num_df[0]))"
   ]
  },
  {
   "cell_type": "code",
   "execution_count": 22,
   "metadata": {},
   "outputs": [
    {
     "name": "stdout",
     "output_type": "stream",
     "text": [
      "Index(['회사명', '종목코드', '업종', '주요제품', '상장일', '결산월', '대표자명', '홈페이지', '지역'], dtype='object')\n"
     ]
    }
   ],
   "source": [
    "code_num_df = code_num_df[0]\n",
    "print(code_num_df.columns)"
   ]
  },
  {
   "cell_type": "code",
   "execution_count": 23,
   "metadata": {},
   "outputs": [
    {
     "data": {
      "text/html": [
       "<div>\n",
       "<style scoped>\n",
       "    .dataframe tbody tr th:only-of-type {\n",
       "        vertical-align: middle;\n",
       "    }\n",
       "\n",
       "    .dataframe tbody tr th {\n",
       "        vertical-align: top;\n",
       "    }\n",
       "\n",
       "    .dataframe thead th {\n",
       "        text-align: right;\n",
       "    }\n",
       "</style>\n",
       "<table border=\"1\" class=\"dataframe\">\n",
       "  <thead>\n",
       "    <tr style=\"text-align: right;\">\n",
       "      <th></th>\n",
       "      <th>회사명</th>\n",
       "      <th>종목코드</th>\n",
       "    </tr>\n",
       "  </thead>\n",
       "  <tbody>\n",
       "    <tr>\n",
       "      <th>0</th>\n",
       "      <td>DSR</td>\n",
       "      <td>155660</td>\n",
       "    </tr>\n",
       "    <tr>\n",
       "      <th>1</th>\n",
       "      <td>GS</td>\n",
       "      <td>78930</td>\n",
       "    </tr>\n",
       "    <tr>\n",
       "      <th>2</th>\n",
       "      <td>GS글로벌</td>\n",
       "      <td>1250</td>\n",
       "    </tr>\n",
       "    <tr>\n",
       "      <th>3</th>\n",
       "      <td>HDC현대산업개발</td>\n",
       "      <td>294870</td>\n",
       "    </tr>\n",
       "    <tr>\n",
       "      <th>4</th>\n",
       "      <td>LG이노텍</td>\n",
       "      <td>11070</td>\n",
       "    </tr>\n",
       "  </tbody>\n",
       "</table>\n",
       "</div>"
      ],
      "text/plain": [
       "         회사명    종목코드\n",
       "0        DSR  155660\n",
       "1         GS   78930\n",
       "2      GS글로벌    1250\n",
       "3  HDC현대산업개발  294870\n",
       "4      LG이노텍   11070"
      ]
     },
     "execution_count": 23,
     "metadata": {},
     "output_type": "execute_result"
    }
   ],
   "source": [
    "code_num_df = code_num_df[['회사명', '종목코드']]\n",
    "code_num_df.head()"
   ]
  },
  {
   "cell_type": "code",
   "execution_count": 24,
   "metadata": {},
   "outputs": [
    {
     "data": {
      "text/html": [
       "<div>\n",
       "<style scoped>\n",
       "    .dataframe tbody tr th:only-of-type {\n",
       "        vertical-align: middle;\n",
       "    }\n",
       "\n",
       "    .dataframe tbody tr th {\n",
       "        vertical-align: top;\n",
       "    }\n",
       "\n",
       "    .dataframe thead th {\n",
       "        text-align: right;\n",
       "    }\n",
       "</style>\n",
       "<table border=\"1\" class=\"dataframe\">\n",
       "  <thead>\n",
       "    <tr style=\"text-align: right;\">\n",
       "      <th></th>\n",
       "      <th>회사명</th>\n",
       "      <th>종목코드</th>\n",
       "    </tr>\n",
       "  </thead>\n",
       "  <tbody>\n",
       "    <tr>\n",
       "      <th>0</th>\n",
       "      <td>DSR</td>\n",
       "      <td>155660</td>\n",
       "    </tr>\n",
       "    <tr>\n",
       "      <th>1</th>\n",
       "      <td>GS</td>\n",
       "      <td>078930</td>\n",
       "    </tr>\n",
       "    <tr>\n",
       "      <th>2</th>\n",
       "      <td>GS글로벌</td>\n",
       "      <td>001250</td>\n",
       "    </tr>\n",
       "    <tr>\n",
       "      <th>3</th>\n",
       "      <td>HDC현대산업개발</td>\n",
       "      <td>294870</td>\n",
       "    </tr>\n",
       "    <tr>\n",
       "      <th>4</th>\n",
       "      <td>LG이노텍</td>\n",
       "      <td>011070</td>\n",
       "    </tr>\n",
       "  </tbody>\n",
       "</table>\n",
       "</div>"
      ],
      "text/plain": [
       "         회사명    종목코드\n",
       "0        DSR  155660\n",
       "1         GS  078930\n",
       "2      GS글로벌  001250\n",
       "3  HDC현대산업개발  294870\n",
       "4      LG이노텍  011070"
      ]
     },
     "execution_count": 24,
     "metadata": {},
     "output_type": "execute_result"
    }
   ],
   "source": [
    "code_num_df.종목코드 = code_num_df.종목코드.map('{:06d}'.format)\n",
    "code_num_df.head()"
   ]
  },
  {
   "cell_type": "markdown",
   "metadata": {},
   "source": [
    "네이버 금융에서 원하는 회사의 주식정보 가져오기\n",
    "\n",
    "https://finance.naver.com/item/sise_day.nhn?code=033780&page=1 형태의 url을 통해 자료를 가져올 수 있다.\n",
    "\n",
    "`code` : 종목코드, `page` : 원하는 페이지 번호"
   ]
  },
  {
   "cell_type": "code",
   "execution_count": 25,
   "metadata": {},
   "outputs": [
    {
     "name": "stdout",
     "output_type": "stream",
     "text": [
      "923    005930\n"
     ]
    }
   ],
   "source": [
    "code_num = code_num_df.query('회사명==\"{}\"'.format('삼성전자'))['종목코드'].to_string()\n",
    "print(code_num)"
   ]
  },
  {
   "cell_type": "code",
   "execution_count": 26,
   "metadata": {},
   "outputs": [],
   "source": [
    "def make_url(name, code_num_df):\n",
    "    # to_string의 index를 없애고, lstrip()으로 왼쪽 여백 제거\n",
    "    code_num = code_num_df.query('회사명==\"{}\"'.format(name))['종목코드'].to_string(index=False).lstrip()\n",
    "    url = 'http://finance.naver.com/item/sise_day.nhn?code={}'.format(code_num)\n",
    "    \n",
    "    return url"
   ]
  },
  {
   "cell_type": "code",
   "execution_count": 27,
   "metadata": {},
   "outputs": [],
   "source": [
    "def get_data(item_name, code_num_df, start_page, end_page):\n",
    "    url = make_url(item_name, code_num_df)\n",
    "    \n",
    "    ret = pd.DataFrame()\n",
    "    \n",
    "    # 페이지 수만큼 반복하면서 결과를 수집\n",
    "    for page in range(start_page, end_page + 1):\n",
    "        request_url = '{url}&page={page}'.format(url=url, page=page)\n",
    "        ret = ret.append(pd.read_html(request_url, header=0)[0], ignore_index=True)\n",
    "    \n",
    "    return ret"
   ]
  },
  {
   "cell_type": "code",
   "execution_count": 28,
   "metadata": {},
   "outputs": [],
   "source": [
    "test_df = get_data('삼성전자', code_num_df, 1, 11)"
   ]
  },
  {
   "cell_type": "code",
   "execution_count": 30,
   "metadata": {},
   "outputs": [
    {
     "name": "stdout",
     "output_type": "stream",
     "text": [
      "<class 'pandas.core.frame.DataFrame'>\n",
      "RangeIndex: 165 entries, 0 to 164\n",
      "Data columns (total 7 columns):\n",
      " #   Column  Non-Null Count  Dtype  \n",
      "---  ------  --------------  -----  \n",
      " 0   날짜      110 non-null    object \n",
      " 1   종가      110 non-null    float64\n",
      " 2   전일비     110 non-null    float64\n",
      " 3   시가      110 non-null    float64\n",
      " 4   고가      110 non-null    float64\n",
      " 5   저가      110 non-null    float64\n",
      " 6   거래량     110 non-null    float64\n",
      "dtypes: float64(6), object(1)\n",
      "memory usage: 9.1+ KB\n",
      "55\n"
     ]
    }
   ],
   "source": [
    "test_df.info()\n",
    "\n",
    "# 결측값이 있는지 확인\n",
    "print(len(test_df.loc[test_df.isnull().any(axis=1)]))"
   ]
  },
  {
   "cell_type": "code",
   "execution_count": 34,
   "metadata": {},
   "outputs": [
    {
     "name": "stdout",
     "output_type": "stream",
     "text": [
      "<class 'pandas.core.frame.DataFrame'>\n",
      "DatetimeIndex: 110 entries, 2019-11-19 to 2020-04-28\n",
      "Data columns (total 6 columns):\n",
      " #   Column  Non-Null Count  Dtype\n",
      "---  ------  --------------  -----\n",
      " 0   close   110 non-null    int32\n",
      " 1   diff    110 non-null    int32\n",
      " 2   open    110 non-null    int32\n",
      " 3   high    110 non-null    int32\n",
      " 4   low     110 non-null    int32\n",
      " 5   volume  110 non-null    int32\n",
      "dtypes: int32(6)\n",
      "memory usage: 3.4 KB\n"
     ]
    },
    {
     "data": {
      "text/html": [
       "<div>\n",
       "<style scoped>\n",
       "    .dataframe tbody tr th:only-of-type {\n",
       "        vertical-align: middle;\n",
       "    }\n",
       "\n",
       "    .dataframe tbody tr th {\n",
       "        vertical-align: top;\n",
       "    }\n",
       "\n",
       "    .dataframe thead th {\n",
       "        text-align: right;\n",
       "    }\n",
       "</style>\n",
       "<table border=\"1\" class=\"dataframe\">\n",
       "  <thead>\n",
       "    <tr style=\"text-align: right;\">\n",
       "      <th></th>\n",
       "      <th>close</th>\n",
       "      <th>diff</th>\n",
       "      <th>open</th>\n",
       "      <th>high</th>\n",
       "      <th>low</th>\n",
       "      <th>volume</th>\n",
       "    </tr>\n",
       "    <tr>\n",
       "      <th>date</th>\n",
       "      <th></th>\n",
       "      <th></th>\n",
       "      <th></th>\n",
       "      <th></th>\n",
       "      <th></th>\n",
       "      <th></th>\n",
       "    </tr>\n",
       "  </thead>\n",
       "  <tbody>\n",
       "    <tr>\n",
       "      <th>2019-11-19</th>\n",
       "      <td>53500</td>\n",
       "      <td>0</td>\n",
       "      <td>53200</td>\n",
       "      <td>53500</td>\n",
       "      <td>52700</td>\n",
       "      <td>8907177</td>\n",
       "    </tr>\n",
       "    <tr>\n",
       "      <th>2019-11-20</th>\n",
       "      <td>52000</td>\n",
       "      <td>1500</td>\n",
       "      <td>53400</td>\n",
       "      <td>53400</td>\n",
       "      <td>52000</td>\n",
       "      <td>12560070</td>\n",
       "    </tr>\n",
       "    <tr>\n",
       "      <th>2019-11-21</th>\n",
       "      <td>51000</td>\n",
       "      <td>1000</td>\n",
       "      <td>51600</td>\n",
       "      <td>52100</td>\n",
       "      <td>50600</td>\n",
       "      <td>14298646</td>\n",
       "    </tr>\n",
       "    <tr>\n",
       "      <th>2019-11-22</th>\n",
       "      <td>51600</td>\n",
       "      <td>600</td>\n",
       "      <td>51000</td>\n",
       "      <td>51600</td>\n",
       "      <td>50900</td>\n",
       "      <td>8478310</td>\n",
       "    </tr>\n",
       "    <tr>\n",
       "      <th>2019-11-25</th>\n",
       "      <td>51800</td>\n",
       "      <td>200</td>\n",
       "      <td>52200</td>\n",
       "      <td>52600</td>\n",
       "      <td>51700</td>\n",
       "      <td>9050625</td>\n",
       "    </tr>\n",
       "  </tbody>\n",
       "</table>\n",
       "</div>"
      ],
      "text/plain": [
       "            close  diff   open   high    low    volume\n",
       "date                                                  \n",
       "2019-11-19  53500     0  53200  53500  52700   8907177\n",
       "2019-11-20  52000  1500  53400  53400  52000  12560070\n",
       "2019-11-21  51000  1000  51600  52100  50600  14298646\n",
       "2019-11-22  51600   600  51000  51600  50900   8478310\n",
       "2019-11-25  51800   200  52200  52600  51700   9050625"
      ]
     },
     "execution_count": 34,
     "metadata": {},
     "output_type": "execute_result"
    }
   ],
   "source": [
    "test_df = test_df.dropna()\n",
    "test_df.info()\n",
    "test_df.head()"
   ]
  },
  {
   "cell_type": "code",
   "execution_count": 37,
   "metadata": {},
   "outputs": [],
   "source": [
    "def get_data(item_name, code_num_df, start_page, end_page):\n",
    "    url = make_url(item_name, code_num_df)\n",
    "    ret = pd.DataFrame()\n",
    "    \n",
    "    for page in range(start_page, end_page + 1):\n",
    "        request_url = '{url}&page={page}'.format(url=url, page=page)\n",
    "        ret = ret.append(pd.read_html(request_url, header=0)[0], ignore_index=True)\n",
    "    \n",
    "    ret = ret.dropna()\n",
    "    \n",
    "    # 사용 편의를 위해 한글 컬럼명을 영문명으로 변경\n",
    "    ret = ret.rename(columns={'날짜': 'date', '종가': 'close', '전일비': 'diff', \\\n",
    "                      '시가': 'open', '고가': 'high', '저가': 'low', '거래량': 'volume'})\n",
    "    \n",
    "    # float 형태의 값을 int로 캐스팅\n",
    "    ret[['close', 'diff', 'open', 'high', 'low', 'volume']] \\\n",
    "    = ret[['close', 'diff', 'open', 'high', 'low', 'volume']].astype(int) \n",
    "    \n",
    "    # 날짜를 인덱스로 설정\n",
    "    ret['date'] = pd.to_datetime(ret['date'])\n",
    "    ret = ret.set_index('date')\n",
    "    \n",
    "    # 날짜를 기준으로 오름차순 정렬 -> 그래프 출력을 위함\n",
    "    ret = ret.sort_values(by=['date'], ascending=True)\n",
    "    \n",
    "    return ret"
   ]
  },
  {
   "cell_type": "code",
   "execution_count": 39,
   "metadata": {},
   "outputs": [
    {
     "data": {
      "text/html": [
       "<div>\n",
       "<style scoped>\n",
       "    .dataframe tbody tr th:only-of-type {\n",
       "        vertical-align: middle;\n",
       "    }\n",
       "\n",
       "    .dataframe tbody tr th {\n",
       "        vertical-align: top;\n",
       "    }\n",
       "\n",
       "    .dataframe thead th {\n",
       "        text-align: right;\n",
       "    }\n",
       "</style>\n",
       "<table border=\"1\" class=\"dataframe\">\n",
       "  <thead>\n",
       "    <tr style=\"text-align: right;\">\n",
       "      <th></th>\n",
       "      <th>close</th>\n",
       "      <th>diff</th>\n",
       "      <th>open</th>\n",
       "      <th>high</th>\n",
       "      <th>low</th>\n",
       "      <th>volume</th>\n",
       "    </tr>\n",
       "    <tr>\n",
       "      <th>date</th>\n",
       "      <th></th>\n",
       "      <th></th>\n",
       "      <th></th>\n",
       "      <th></th>\n",
       "      <th></th>\n",
       "      <th></th>\n",
       "    </tr>\n",
       "  </thead>\n",
       "  <tbody>\n",
       "    <tr>\n",
       "      <th>2019-11-19</th>\n",
       "      <td>53500</td>\n",
       "      <td>0</td>\n",
       "      <td>53200</td>\n",
       "      <td>53500</td>\n",
       "      <td>52700</td>\n",
       "      <td>8907177</td>\n",
       "    </tr>\n",
       "    <tr>\n",
       "      <th>2019-11-20</th>\n",
       "      <td>52000</td>\n",
       "      <td>1500</td>\n",
       "      <td>53400</td>\n",
       "      <td>53400</td>\n",
       "      <td>52000</td>\n",
       "      <td>12560070</td>\n",
       "    </tr>\n",
       "    <tr>\n",
       "      <th>2019-11-21</th>\n",
       "      <td>51000</td>\n",
       "      <td>1000</td>\n",
       "      <td>51600</td>\n",
       "      <td>52100</td>\n",
       "      <td>50600</td>\n",
       "      <td>14298646</td>\n",
       "    </tr>\n",
       "    <tr>\n",
       "      <th>2019-11-22</th>\n",
       "      <td>51600</td>\n",
       "      <td>600</td>\n",
       "      <td>51000</td>\n",
       "      <td>51600</td>\n",
       "      <td>50900</td>\n",
       "      <td>8478310</td>\n",
       "    </tr>\n",
       "    <tr>\n",
       "      <th>2019-11-25</th>\n",
       "      <td>51800</td>\n",
       "      <td>200</td>\n",
       "      <td>52200</td>\n",
       "      <td>52600</td>\n",
       "      <td>51700</td>\n",
       "      <td>9050625</td>\n",
       "    </tr>\n",
       "  </tbody>\n",
       "</table>\n",
       "</div>"
      ],
      "text/plain": [
       "            close  diff   open   high    low    volume\n",
       "date                                                  \n",
       "2019-11-19  53500     0  53200  53500  52700   8907177\n",
       "2019-11-20  52000  1500  53400  53400  52000  12560070\n",
       "2019-11-21  51000  1000  51600  52100  50600  14298646\n",
       "2019-11-22  51600   600  51000  51600  50900   8478310\n",
       "2019-11-25  51800   200  52200  52600  51700   9050625"
      ]
     },
     "execution_count": 39,
     "metadata": {},
     "output_type": "execute_result"
    }
   ],
   "source": [
    "test_df = get_data('삼성전자', code_num_df, 1, 11)\n",
    "test_df.head()"
   ]
  },
  {
   "cell_type": "markdown",
   "metadata": {},
   "source": [
    "`matplotlib`로 그래프 그리기"
   ]
  },
  {
   "cell_type": "code",
   "execution_count": 40,
   "metadata": {},
   "outputs": [
    {
     "data": {
      "text/plain": [
       "[<matplotlib.lines.Line2D at 0x922ac7ca30>]"
      ]
     },
     "execution_count": 40,
     "metadata": {},
     "output_type": "execute_result"
    },
    {
     "data": {
      "image/png": "[encoded data removed]",
      "text/plain": [
       "<Figure size 432x288 with 1 Axes>"
      ]
     },
     "metadata": {
      "needs_background": "light"
     },
     "output_type": "display_data"
    }
   ],
   "source": [
    "from pandas.plotting import register_matplotlib_converters\n",
    "register_matplotlib_converters()\n",
    "\n",
    "import matplotlib.pyplot as plt\n",
    "%matplotlib inline\n",
    "plt.plot(test_df.index, test_df['close'], label='close')"
   ]
  },
  {
   "cell_type": "code",
   "execution_count": 41,
   "metadata": {
    "scrolled": true
   },
   "outputs": [
    {
     "data": {
      "image/png": "[encoded data removed]",
      "text/plain": [
       "<Figure size 432x288 with 1 Axes>"
      ]
     },
     "metadata": {
      "needs_background": "light"
     },
     "output_type": "display_data"
    }
   ],
   "source": [
    "for col in ['close', 'open', 'high', 'low']:\n",
    "    plt.plot(test_df.index, test_df[col], label=col)\n",
    "\n",
    "plt.rcParams[\"figure.figsize\"] = (5,10)\n",
    "plt.legend(loc='best')\n",
    "plt.grid()"
   ]
  },
  {
   "cell_type": "markdown",
   "metadata": {},
   "source": [
    "2개의 그래프로 나눠서 출력하기\n",
    "\n",
    "`plt.subpot(nrows, ncols, index)` 함수를 통해 여러 그래프를 출력할 수 있다."
   ]
  },
  {
   "cell_type": "code",
   "execution_count": 43,
   "metadata": {
    "scrolled": true
   },
   "outputs": [
    {
     "data": {
      "image/png": "[encoded data removed]",
      "text/plain": [
       "<Figure size 360x720 with 2 Axes>"
      ]
     },
     "metadata": {
      "needs_background": "light"
     },
     "output_type": "display_data"
    }
   ],
   "source": [
    "plt.subplot(2, 1, 1)\n",
    "plt.plot(test_df.index, test_df['close'], label='close')\n",
    "plt.plot(test_df.index, test_df['open'], label='open')\n",
    "plt.legend(loc='best')\n",
    "plt.grid()\n",
    "\n",
    "\n",
    "plt.subplot(2, 1, 2)\n",
    "plt.plot(test_df.index, test_df['low'], label='low', color='red')\n",
    "plt.plot(test_df.index, test_df['high'], label='high', color='green')\n",
    "plt.legend(loc='best')\n",
    "plt.grid()"
   ]
  },
  {
   "cell_type": "markdown",
   "metadata": {},
   "source": [
    "### 2. Pandas `datareader` 를 사용해 Data 얻기\n",
    "1. `pandas_datareader` 를 사용해 삼성전자 `005930.KS` 주가정보 가져오기\n",
    "2. 수정종가 `Adj Close` 를 그래프로 그리기\n",
    "3. `Adj Close` 의 5일, 12일, 26일, 120일 이동평균을 구하고 그래프로 그리기\n",
    "4. MACD 지표 구해서 그래프로 그리기"
   ]
  },
  {
   "cell_type": "code",
   "execution_count": 46,
   "metadata": {},
   "outputs": [],
   "source": [
    "from datetime import datetime\n",
    "import pandas_datareader.data as reader\n",
    "from pandas.plotting import register_matplotlib_converters\n",
    "register_matplotlib_converters()\n",
    "\n",
    "start = datetime(2017, 1, 31)\n",
    "end = datetime(2019, 1, 31)\n",
    "\n",
    "data = reader.DataReader(\"005930.KS\", \"yahoo\", start, end)"
   ]
  },
  {
   "cell_type": "code",
   "execution_count": 47,
   "metadata": {},
   "outputs": [
    {
     "name": "stdout",
     "output_type": "stream",
     "text": [
      "<class 'pandas.core.frame.DataFrame'>\n",
      "DatetimeIndex: 484 entries, 2017-01-31 to 2019-01-31\n",
      "Data columns (total 6 columns):\n",
      " #   Column     Non-Null Count  Dtype  \n",
      "---  ------     --------------  -----  \n",
      " 0   High       484 non-null    float64\n",
      " 1   Low        484 non-null    float64\n",
      " 2   Open       484 non-null    float64\n",
      " 3   Close      484 non-null    float64\n",
      " 4   Volume     484 non-null    float64\n",
      " 5   Adj Close  484 non-null    float64\n",
      "dtypes: float64(6)\n",
      "memory usage: 26.5 KB\n"
     ]
    },
    {
     "data": {
      "text/html": [
       "<div>\n",
       "<style scoped>\n",
       "    .dataframe tbody tr th:only-of-type {\n",
       "        vertical-align: middle;\n",
       "    }\n",
       "\n",
       "    .dataframe tbody tr th {\n",
       "        vertical-align: top;\n",
       "    }\n",
       "\n",
       "    .dataframe thead th {\n",
       "        text-align: right;\n",
       "    }\n",
       "</style>\n",
       "<table border=\"1\" class=\"dataframe\">\n",
       "  <thead>\n",
       "    <tr style=\"text-align: right;\">\n",
       "      <th></th>\n",
       "      <th>High</th>\n",
       "      <th>Low</th>\n",
       "      <th>Open</th>\n",
       "      <th>Close</th>\n",
       "      <th>Volume</th>\n",
       "      <th>Adj Close</th>\n",
       "    </tr>\n",
       "    <tr>\n",
       "      <th>Date</th>\n",
       "      <th></th>\n",
       "      <th></th>\n",
       "      <th></th>\n",
       "      <th></th>\n",
       "      <th></th>\n",
       "      <th></th>\n",
       "    </tr>\n",
       "  </thead>\n",
       "  <tbody>\n",
       "    <tr>\n",
       "      <th>2017-01-31</th>\n",
       "      <td>39900.0</td>\n",
       "      <td>39460.0</td>\n",
       "      <td>39900.0</td>\n",
       "      <td>39460.0</td>\n",
       "      <td>17992200.0</td>\n",
       "      <td>8340.279297</td>\n",
       "    </tr>\n",
       "    <tr>\n",
       "      <th>2017-02-01</th>\n",
       "      <td>39660.0</td>\n",
       "      <td>39040.0</td>\n",
       "      <td>39540.0</td>\n",
       "      <td>39120.0</td>\n",
       "      <td>14150400.0</td>\n",
       "      <td>8268.416992</td>\n",
       "    </tr>\n",
       "    <tr>\n",
       "      <th>2017-02-02</th>\n",
       "      <td>39660.0</td>\n",
       "      <td>39200.0</td>\n",
       "      <td>39600.0</td>\n",
       "      <td>39360.0</td>\n",
       "      <td>15029300.0</td>\n",
       "      <td>8319.143555</td>\n",
       "    </tr>\n",
       "    <tr>\n",
       "      <th>2017-02-03</th>\n",
       "      <td>39500.0</td>\n",
       "      <td>39180.0</td>\n",
       "      <td>39400.0</td>\n",
       "      <td>39460.0</td>\n",
       "      <td>10386350.0</td>\n",
       "      <td>8340.279297</td>\n",
       "    </tr>\n",
       "    <tr>\n",
       "      <th>2017-02-06</th>\n",
       "      <td>39660.0</td>\n",
       "      <td>39140.0</td>\n",
       "      <td>39580.0</td>\n",
       "      <td>39560.0</td>\n",
       "      <td>8860700.0</td>\n",
       "      <td>8361.416016</td>\n",
       "    </tr>\n",
       "  </tbody>\n",
       "</table>\n",
       "</div>"
      ],
      "text/plain": [
       "               High      Low     Open    Close      Volume    Adj Close\n",
       "Date                                                                   \n",
       "2017-01-31  39900.0  39460.0  39900.0  39460.0  17992200.0  8340.279297\n",
       "2017-02-01  39660.0  39040.0  39540.0  39120.0  14150400.0  8268.416992\n",
       "2017-02-02  39660.0  39200.0  39600.0  39360.0  15029300.0  8319.143555\n",
       "2017-02-03  39500.0  39180.0  39400.0  39460.0  10386350.0  8340.279297\n",
       "2017-02-06  39660.0  39140.0  39580.0  39560.0   8860700.0  8361.416016"
      ]
     },
     "execution_count": 47,
     "metadata": {},
     "output_type": "execute_result"
    }
   ],
   "source": [
    "data.info()\n",
    "data.head()"
   ]
  },
  {
   "cell_type": "code",
   "execution_count": 48,
   "metadata": {},
   "outputs": [
    {
     "data": {
      "text/plain": [
       "[<matplotlib.lines.Line2D at 0x922b614640>]"
      ]
     },
     "execution_count": 48,
     "metadata": {},
     "output_type": "execute_result"
    },
    {
     "data": {
      "image/png": "[encoded data removed]",
      "text/plain": [
       "<Figure size 432x288 with 1 Axes>"
      ]
     },
     "metadata": {
      "needs_background": "light"
     },
     "output_type": "display_data"
    }
   ],
   "source": [
    "import matplotlib.pyplot as plt\n",
    "%matplotlib inline\n",
    "plt.plot(data['Adj Close'])"
   ]
  },
  {
   "cell_type": "code",
   "execution_count": 49,
   "metadata": {},
   "outputs": [
    {
     "data": {
      "text/html": [
       "<div>\n",
       "<style scoped>\n",
       "    .dataframe tbody tr th:only-of-type {\n",
       "        vertical-align: middle;\n",
       "    }\n",
       "\n",
       "    .dataframe tbody tr th {\n",
       "        vertical-align: top;\n",
       "    }\n",
       "\n",
       "    .dataframe thead th {\n",
       "        text-align: right;\n",
       "    }\n",
       "</style>\n",
       "<table border=\"1\" class=\"dataframe\">\n",
       "  <thead>\n",
       "    <tr style=\"text-align: right;\">\n",
       "      <th></th>\n",
       "      <th>High</th>\n",
       "      <th>Low</th>\n",
       "      <th>Open</th>\n",
       "      <th>Close</th>\n",
       "      <th>Volume</th>\n",
       "      <th>Adj Close</th>\n",
       "    </tr>\n",
       "    <tr>\n",
       "      <th>Date</th>\n",
       "      <th></th>\n",
       "      <th></th>\n",
       "      <th></th>\n",
       "      <th></th>\n",
       "      <th></th>\n",
       "      <th></th>\n",
       "    </tr>\n",
       "  </thead>\n",
       "  <tbody>\n",
       "    <tr>\n",
       "      <th>2017-09-26</th>\n",
       "      <td>53620.0</td>\n",
       "      <td>53620.0</td>\n",
       "      <td>53620.0</td>\n",
       "      <td>53620.0</td>\n",
       "      <td>0.0</td>\n",
       "      <td>15955.597656</td>\n",
       "    </tr>\n",
       "    <tr>\n",
       "      <th>2018-04-30</th>\n",
       "      <td>53000.0</td>\n",
       "      <td>53000.0</td>\n",
       "      <td>53000.0</td>\n",
       "      <td>53000.0</td>\n",
       "      <td>0.0</td>\n",
       "      <td>51733.824219</td>\n",
       "    </tr>\n",
       "    <tr>\n",
       "      <th>2018-05-02</th>\n",
       "      <td>53000.0</td>\n",
       "      <td>53000.0</td>\n",
       "      <td>53000.0</td>\n",
       "      <td>53000.0</td>\n",
       "      <td>0.0</td>\n",
       "      <td>51733.824219</td>\n",
       "    </tr>\n",
       "    <tr>\n",
       "      <th>2018-05-03</th>\n",
       "      <td>53000.0</td>\n",
       "      <td>53000.0</td>\n",
       "      <td>53000.0</td>\n",
       "      <td>53000.0</td>\n",
       "      <td>0.0</td>\n",
       "      <td>51733.824219</td>\n",
       "    </tr>\n",
       "  </tbody>\n",
       "</table>\n",
       "</div>"
      ],
      "text/plain": [
       "               High      Low     Open    Close  Volume     Adj Close\n",
       "Date                                                                \n",
       "2017-09-26  53620.0  53620.0  53620.0  53620.0     0.0  15955.597656\n",
       "2018-04-30  53000.0  53000.0  53000.0  53000.0     0.0  51733.824219\n",
       "2018-05-02  53000.0  53000.0  53000.0  53000.0     0.0  51733.824219\n",
       "2018-05-03  53000.0  53000.0  53000.0  53000.0     0.0  51733.824219"
      ]
     },
     "execution_count": 49,
     "metadata": {},
     "output_type": "execute_result"
    }
   ],
   "source": [
    "data[data['Volume'] == 0]"
   ]
  },
  {
   "cell_type": "code",
   "execution_count": 50,
   "metadata": {},
   "outputs": [],
   "source": [
    "data = data[data['Volume'] != 0]"
   ]
  },
  {
   "cell_type": "code",
   "execution_count": 51,
   "metadata": {},
   "outputs": [
    {
     "data": {
      "text/plain": [
       "Date\n",
       "2019-01-25    42940.0\n",
       "2019-01-28    43400.0\n",
       "2019-01-29    44070.0\n",
       "2019-01-30    44950.0\n",
       "2019-01-31    45570.0\n",
       "Name: Adj Close, dtype: float64"
      ]
     },
     "execution_count": 51,
     "metadata": {},
     "output_type": "execute_result"
    }
   ],
   "source": [
    "ma5 = data['Adj Close'].rolling(window=5).mean()\n",
    "ma5.tail()"
   ]
  },
  {
   "cell_type": "code",
   "execution_count": 52,
   "metadata": {},
   "outputs": [
    {
     "data": {
      "text/html": [
       "<div>\n",
       "<style scoped>\n",
       "    .dataframe tbody tr th:only-of-type {\n",
       "        vertical-align: middle;\n",
       "    }\n",
       "\n",
       "    .dataframe tbody tr th {\n",
       "        vertical-align: top;\n",
       "    }\n",
       "\n",
       "    .dataframe thead th {\n",
       "        text-align: right;\n",
       "    }\n",
       "</style>\n",
       "<table border=\"1\" class=\"dataframe\">\n",
       "  <thead>\n",
       "    <tr style=\"text-align: right;\">\n",
       "      <th></th>\n",
       "      <th>High</th>\n",
       "      <th>Low</th>\n",
       "      <th>Open</th>\n",
       "      <th>Close</th>\n",
       "      <th>Volume</th>\n",
       "      <th>Adj Close</th>\n",
       "      <th>MA5</th>\n",
       "    </tr>\n",
       "    <tr>\n",
       "      <th>Date</th>\n",
       "      <th></th>\n",
       "      <th></th>\n",
       "      <th></th>\n",
       "      <th></th>\n",
       "      <th></th>\n",
       "      <th></th>\n",
       "      <th></th>\n",
       "    </tr>\n",
       "  </thead>\n",
       "  <tbody>\n",
       "    <tr>\n",
       "      <th>2019-01-25</th>\n",
       "      <td>44750.0</td>\n",
       "      <td>43750.0</td>\n",
       "      <td>44300.0</td>\n",
       "      <td>44750.0</td>\n",
       "      <td>22789395.0</td>\n",
       "      <td>44750.0</td>\n",
       "      <td>42940.0</td>\n",
       "    </tr>\n",
       "    <tr>\n",
       "      <th>2019-01-28</th>\n",
       "      <td>45500.0</td>\n",
       "      <td>44600.0</td>\n",
       "      <td>45000.0</td>\n",
       "      <td>45050.0</td>\n",
       "      <td>17998914.0</td>\n",
       "      <td>45050.0</td>\n",
       "      <td>43400.0</td>\n",
       "    </tr>\n",
       "    <tr>\n",
       "      <th>2019-01-29</th>\n",
       "      <td>45500.0</td>\n",
       "      <td>44350.0</td>\n",
       "      <td>45050.0</td>\n",
       "      <td>45500.0</td>\n",
       "      <td>16215017.0</td>\n",
       "      <td>45500.0</td>\n",
       "      <td>44070.0</td>\n",
       "    </tr>\n",
       "    <tr>\n",
       "      <th>2019-01-30</th>\n",
       "      <td>46400.0</td>\n",
       "      <td>44800.0</td>\n",
       "      <td>44800.0</td>\n",
       "      <td>46400.0</td>\n",
       "      <td>17505980.0</td>\n",
       "      <td>46400.0</td>\n",
       "      <td>44950.0</td>\n",
       "    </tr>\n",
       "    <tr>\n",
       "      <th>2019-01-31</th>\n",
       "      <td>47050.0</td>\n",
       "      <td>46150.0</td>\n",
       "      <td>46650.0</td>\n",
       "      <td>46150.0</td>\n",
       "      <td>21621145.0</td>\n",
       "      <td>46150.0</td>\n",
       "      <td>45570.0</td>\n",
       "    </tr>\n",
       "  </tbody>\n",
       "</table>\n",
       "</div>"
      ],
      "text/plain": [
       "               High      Low     Open    Close      Volume  Adj Close      MA5\n",
       "Date                                                                          \n",
       "2019-01-25  44750.0  43750.0  44300.0  44750.0  22789395.0    44750.0  42940.0\n",
       "2019-01-28  45500.0  44600.0  45000.0  45050.0  17998914.0    45050.0  43400.0\n",
       "2019-01-29  45500.0  44350.0  45050.0  45500.0  16215017.0    45500.0  44070.0\n",
       "2019-01-30  46400.0  44800.0  44800.0  46400.0  17505980.0    46400.0  44950.0\n",
       "2019-01-31  47050.0  46150.0  46650.0  46150.0  21621145.0    46150.0  45570.0"
      ]
     },
     "execution_count": 52,
     "metadata": {},
     "output_type": "execute_result"
    }
   ],
   "source": [
    "data.insert(len(data.columns), \"MA5\", ma5)\n",
    "data.tail()"
   ]
  },
  {
   "cell_type": "code",
   "execution_count": 53,
   "metadata": {},
   "outputs": [
    {
     "data": {
      "text/html": [
       "<div>\n",
       "<style scoped>\n",
       "    .dataframe tbody tr th:only-of-type {\n",
       "        vertical-align: middle;\n",
       "    }\n",
       "\n",
       "    .dataframe tbody tr th {\n",
       "        vertical-align: top;\n",
       "    }\n",
       "\n",
       "    .dataframe thead th {\n",
       "        text-align: right;\n",
       "    }\n",
       "</style>\n",
       "<table border=\"1\" class=\"dataframe\">\n",
       "  <thead>\n",
       "    <tr style=\"text-align: right;\">\n",
       "      <th></th>\n",
       "      <th>High</th>\n",
       "      <th>Low</th>\n",
       "      <th>Open</th>\n",
       "      <th>Close</th>\n",
       "      <th>Volume</th>\n",
       "      <th>Adj Close</th>\n",
       "      <th>MA5</th>\n",
       "      <th>MA12</th>\n",
       "      <th>MA26</th>\n",
       "      <th>MA120</th>\n",
       "    </tr>\n",
       "    <tr>\n",
       "      <th>Date</th>\n",
       "      <th></th>\n",
       "      <th></th>\n",
       "      <th></th>\n",
       "      <th></th>\n",
       "      <th></th>\n",
       "      <th></th>\n",
       "      <th></th>\n",
       "      <th></th>\n",
       "      <th></th>\n",
       "      <th></th>\n",
       "    </tr>\n",
       "  </thead>\n",
       "  <tbody>\n",
       "    <tr>\n",
       "      <th>2019-01-25</th>\n",
       "      <td>44750.0</td>\n",
       "      <td>43750.0</td>\n",
       "      <td>44300.0</td>\n",
       "      <td>44750.0</td>\n",
       "      <td>22789395.0</td>\n",
       "      <td>44750.0</td>\n",
       "      <td>42940.0</td>\n",
       "      <td>41820.833333</td>\n",
       "      <td>39975.165415</td>\n",
       "      <td>42904.012793</td>\n",
       "    </tr>\n",
       "    <tr>\n",
       "      <th>2019-01-28</th>\n",
       "      <td>45500.0</td>\n",
       "      <td>44600.0</td>\n",
       "      <td>45000.0</td>\n",
       "      <td>45050.0</td>\n",
       "      <td>17998914.0</td>\n",
       "      <td>45050.0</td>\n",
       "      <td>43400.0</td>\n",
       "      <td>42258.333333</td>\n",
       "      <td>40225.514573</td>\n",
       "      <td>42898.373665</td>\n",
       "    </tr>\n",
       "    <tr>\n",
       "      <th>2019-01-29</th>\n",
       "      <td>45500.0</td>\n",
       "      <td>44350.0</td>\n",
       "      <td>45050.0</td>\n",
       "      <td>45500.0</td>\n",
       "      <td>16215017.0</td>\n",
       "      <td>45500.0</td>\n",
       "      <td>44070.0</td>\n",
       "      <td>42675.000000</td>\n",
       "      <td>40485.550180</td>\n",
       "      <td>42898.533236</td>\n",
       "    </tr>\n",
       "    <tr>\n",
       "      <th>2019-01-30</th>\n",
       "      <td>46400.0</td>\n",
       "      <td>44800.0</td>\n",
       "      <td>44800.0</td>\n",
       "      <td>46400.0</td>\n",
       "      <td>17505980.0</td>\n",
       "      <td>46400.0</td>\n",
       "      <td>44950.0</td>\n",
       "      <td>43204.166667</td>\n",
       "      <td>40797.349008</td>\n",
       "      <td>42903.734375</td>\n",
       "    </tr>\n",
       "    <tr>\n",
       "      <th>2019-01-31</th>\n",
       "      <td>47050.0</td>\n",
       "      <td>46150.0</td>\n",
       "      <td>46650.0</td>\n",
       "      <td>46150.0</td>\n",
       "      <td>21621145.0</td>\n",
       "      <td>46150.0</td>\n",
       "      <td>45570.0</td>\n",
       "      <td>43625.000000</td>\n",
       "      <td>41099.532452</td>\n",
       "      <td>42915.046908</td>\n",
       "    </tr>\n",
       "  </tbody>\n",
       "</table>\n",
       "</div>"
      ],
      "text/plain": [
       "               High      Low     Open    Close      Volume  Adj Close  \\\n",
       "Date                                                                    \n",
       "2019-01-25  44750.0  43750.0  44300.0  44750.0  22789395.0    44750.0   \n",
       "2019-01-28  45500.0  44600.0  45000.0  45050.0  17998914.0    45050.0   \n",
       "2019-01-29  45500.0  44350.0  45050.0  45500.0  16215017.0    45500.0   \n",
       "2019-01-30  46400.0  44800.0  44800.0  46400.0  17505980.0    46400.0   \n",
       "2019-01-31  47050.0  46150.0  46650.0  46150.0  21621145.0    46150.0   \n",
       "\n",
       "                MA5          MA12          MA26         MA120  \n",
       "Date                                                           \n",
       "2019-01-25  42940.0  41820.833333  39975.165415  42904.012793  \n",
       "2019-01-28  43400.0  42258.333333  40225.514573  42898.373665  \n",
       "2019-01-29  44070.0  42675.000000  40485.550180  42898.533236  \n",
       "2019-01-30  44950.0  43204.166667  40797.349008  42903.734375  \n",
       "2019-01-31  45570.0  43625.000000  41099.532452  42915.046908  "
      ]
     },
     "execution_count": 53,
     "metadata": {},
     "output_type": "execute_result"
    }
   ],
   "source": [
    "for date in [12, 26, 120]:\n",
    "    ma = data['Adj Close'].rolling(window=date).mean()\n",
    "    data.insert(len(data.columns), 'MA{}'.format(date), ma)\n",
    "    \n",
    "data.tail()"
   ]
  },
  {
   "cell_type": "code",
   "execution_count": 54,
   "metadata": {},
   "outputs": [
    {
     "data": {
      "image/png": "[encoded data removed]",
      "text/plain": [
       "<Figure size 432x288 with 1 Axes>"
      ]
     },
     "metadata": {
      "needs_background": "light"
     },
     "output_type": "display_data"
    }
   ],
   "source": [
    "for col in ['MA5', 'MA12', 'MA26', 'MA120']:\n",
    "    plt.plot(data.index, data[col], label=col)\n",
    "    \n",
    "plt.legend(loc='best')\n",
    "plt.rcParams[\"figure.figsize\"] = (10, 5)\n",
    "plt.grid()"
   ]
  },
  {
   "cell_type": "markdown",
   "metadata": {},
   "source": [
    "#### MACD (Moving Average Convergence Divergence) 구하기\n",
    "1. `MACD` : MACD = EMA(12) - EMA(6) , EMA(n) : n일간의 이동평균\n",
    "2. `Signal` : MACD의 9일간의 이동평균\n",
    "3. `Oscillator` : MACD - Signal"
   ]
  },
  {
   "cell_type": "code",
   "execution_count": 55,
   "metadata": {},
   "outputs": [],
   "source": [
    "def get_macd(df, col, short=6, long=12, t=9):\n",
    "    ret = pd.DataFrame(df)\n",
    "    \n",
    "    ma_short = ret[col].rolling(window=short).mean()    \n",
    "    ma_long = ret[col].rolling(window=long).mean()\n",
    "    macd = ma_long - ma_short\n",
    "    signal = macd.rolling(window=t).mean()\n",
    "    oscillator = macd - signal\n",
    "    \n",
    "    ret = ret.assign(macd=macd, signal=signal, oscillator=oscillator).dropna()\n",
    "    \n",
    "    return ret"
   ]
  },
  {
   "cell_type": "code",
   "execution_count": 56,
   "metadata": {},
   "outputs": [
    {
     "data": {
      "text/html": [
       "<div>\n",
       "<style scoped>\n",
       "    .dataframe tbody tr th:only-of-type {\n",
       "        vertical-align: middle;\n",
       "    }\n",
       "\n",
       "    .dataframe tbody tr th {\n",
       "        vertical-align: top;\n",
       "    }\n",
       "\n",
       "    .dataframe thead th {\n",
       "        text-align: right;\n",
       "    }\n",
       "</style>\n",
       "<table border=\"1\" class=\"dataframe\">\n",
       "  <thead>\n",
       "    <tr style=\"text-align: right;\">\n",
       "      <th></th>\n",
       "      <th>High</th>\n",
       "      <th>Low</th>\n",
       "      <th>Open</th>\n",
       "      <th>Close</th>\n",
       "      <th>Volume</th>\n",
       "      <th>Adj Close</th>\n",
       "      <th>macd</th>\n",
       "      <th>signal</th>\n",
       "      <th>oscillator</th>\n",
       "    </tr>\n",
       "    <tr>\n",
       "      <th>Date</th>\n",
       "      <th></th>\n",
       "      <th></th>\n",
       "      <th></th>\n",
       "      <th></th>\n",
       "      <th></th>\n",
       "      <th></th>\n",
       "      <th></th>\n",
       "      <th></th>\n",
       "      <th></th>\n",
       "    </tr>\n",
       "  </thead>\n",
       "  <tbody>\n",
       "    <tr>\n",
       "      <th>2017-03-20</th>\n",
       "      <td>42120.0</td>\n",
       "      <td>41740.0</td>\n",
       "      <td>42000.0</td>\n",
       "      <td>41900.0</td>\n",
       "      <td>10250050.0</td>\n",
       "      <td>8855.999023</td>\n",
       "      <td>-273.332488</td>\n",
       "      <td>-164.951507</td>\n",
       "      <td>-108.380981</td>\n",
       "    </tr>\n",
       "    <tr>\n",
       "      <th>2017-03-21</th>\n",
       "      <td>42680.0</td>\n",
       "      <td>41760.0</td>\n",
       "      <td>41780.0</td>\n",
       "      <td>42560.0</td>\n",
       "      <td>14220150.0</td>\n",
       "      <td>8995.496094</td>\n",
       "      <td>-290.972950</td>\n",
       "      <td>-189.173682</td>\n",
       "      <td>-101.799269</td>\n",
       "    </tr>\n",
       "    <tr>\n",
       "      <th>2017-03-22</th>\n",
       "      <td>42460.0</td>\n",
       "      <td>41580.0</td>\n",
       "      <td>41600.0</td>\n",
       "      <td>42460.0</td>\n",
       "      <td>16427250.0</td>\n",
       "      <td>8974.361328</td>\n",
       "      <td>-296.311154</td>\n",
       "      <td>-211.643544</td>\n",
       "      <td>-84.667610</td>\n",
       "    </tr>\n",
       "    <tr>\n",
       "      <th>2017-03-23</th>\n",
       "      <td>42360.0</td>\n",
       "      <td>41700.0</td>\n",
       "      <td>42200.0</td>\n",
       "      <td>41800.0</td>\n",
       "      <td>15397100.0</td>\n",
       "      <td>8834.862305</td>\n",
       "      <td>-290.187087</td>\n",
       "      <td>-231.963655</td>\n",
       "      <td>-58.223432</td>\n",
       "    </tr>\n",
       "    <tr>\n",
       "      <th>2017-03-24</th>\n",
       "      <td>41980.0</td>\n",
       "      <td>41080.0</td>\n",
       "      <td>41600.0</td>\n",
       "      <td>41500.0</td>\n",
       "      <td>12808150.0</td>\n",
       "      <td>8771.455078</td>\n",
       "      <td>-282.355894</td>\n",
       "      <td>-249.989500</td>\n",
       "      <td>-32.366394</td>\n",
       "    </tr>\n",
       "  </tbody>\n",
       "</table>\n",
       "</div>"
      ],
      "text/plain": [
       "               High      Low     Open    Close      Volume    Adj Close  \\\n",
       "Date                                                                      \n",
       "2017-03-20  42120.0  41740.0  42000.0  41900.0  10250050.0  8855.999023   \n",
       "2017-03-21  42680.0  41760.0  41780.0  42560.0  14220150.0  8995.496094   \n",
       "2017-03-22  42460.0  41580.0  41600.0  42460.0  16427250.0  8974.361328   \n",
       "2017-03-23  42360.0  41700.0  42200.0  41800.0  15397100.0  8834.862305   \n",
       "2017-03-24  41980.0  41080.0  41600.0  41500.0  12808150.0  8771.455078   \n",
       "\n",
       "                  macd      signal  oscillator  \n",
       "Date                                            \n",
       "2017-03-20 -273.332488 -164.951507 -108.380981  \n",
       "2017-03-21 -290.972950 -189.173682 -101.799269  \n",
       "2017-03-22 -296.311154 -211.643544  -84.667610  \n",
       "2017-03-23 -290.187087 -231.963655  -58.223432  \n",
       "2017-03-24 -282.355894 -249.989500  -32.366394  "
      ]
     },
     "execution_count": 56,
     "metadata": {},
     "output_type": "execute_result"
    }
   ],
   "source": [
    "import pandas as pd\n",
    "data = data.drop(['MA5', 'MA12', 'MA26', 'MA120'], axis=1)\n",
    "macd = get_macd(data, 'Adj Close', short=12, long=26)\n",
    "macd.head()"
   ]
  },
  {
   "cell_type": "code",
   "execution_count": 57,
   "metadata": {},
   "outputs": [
    {
     "data": {
      "text/plain": [
       "Text(0, 0.5, 'Amount')"
      ]
     },
     "execution_count": 57,
     "metadata": {},
     "output_type": "execute_result"
    },
    {
     "data": {
      "image/png": "[encoded data removed]",
      "text/plain": [
       "<Figure size 1440x720 with 2 Axes>"
      ]
     },
     "metadata": {
      "needs_background": "light"
     },
     "output_type": "display_data"
    }
   ],
   "source": [
    "plt.rcParams[\"figure.figsize\"] = (20,10)\n",
    "plt.rcParams['lines.linewidth'] = 3\n",
    "plt.rcParams['axes.grid'] = True \n",
    "\n",
    "plt.subplot(2,1,1)\n",
    "plt.plot(macd.index, macd['macd'], label='macd')\n",
    "plt.plot(macd.index, macd['signal'], label='signal')\n",
    "plt.bar(macd.index, macd['oscillator'], label='oscillator', color='green', alpha=0.5, width=1)\n",
    "plt.legend(loc='best')\n",
    "plt.xlabel('Day', fontsize=12)\n",
    "plt.ylabel('Amount', fontsize=12)\n",
    "\n",
    "plt.subplot(2,1,2)\n",
    "plt.bar(macd.index, macd['Volume'], label='volume', color='purple', width=1)\n",
    "plt.legend(loc='best')\n",
    "plt.xlabel('Day', fontsize=12)\n",
    "plt.ylabel('Amount', fontsize=12)"
   ]
  },
  {
   "cell_type": "code",
   "execution_count": null,
   "metadata": {},
   "outputs": [],
   "source": []
  }
 ],
 "metadata": {
  "kernelspec": {
   "display_name": "Python 3",
   "language": "python",
   "name": "python3"
  },
  "language_info": {
   "codemirror_mode": {
    "name": "ipython",
    "version": 3
   },
   "file_extension": ".py",
   "mimetype": "text/x-python",
   "name": "python",
   "nbconvert_exporter": "python",
   "pygments_lexer": "ipython3",
   "version": "3.8.2"
  }
 },
 "nbformat": 4,
 "nbformat_minor": 4
}
